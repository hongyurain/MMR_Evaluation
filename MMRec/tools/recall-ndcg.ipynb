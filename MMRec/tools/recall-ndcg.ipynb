{
 "cells": [
  {
   "cell_type": "markdown",
   "source": [
    "# MMGCN与MMRec框架差别比较大，对比evaluation部分\n",
    "\n",
    "## ==结论：一样==\n",
    "\n",
    "那可能是 dataloader上有差别。"
   ],
   "metadata": {
    "collapsed": false
   }
  },
  {
   "cell_type": "code",
   "execution_count": 6,
   "metadata": {
    "collapsed": true
   },
   "outputs": [],
   "source": [
    "import numpy as np\n",
    "import torch\n",
    "import math"
   ]
  },
  {
   "cell_type": "code",
   "execution_count": 9,
   "outputs": [
    {
     "name": "stdout",
     "output_type": "stream",
     "text": [
      "torch.Size([10, 64]), item: torch.Size([50, 64])\n"
     ]
    }
   ],
   "source": [
    "dim, topk = 64, 10\n",
    "num_users, num_items = 10, 50\n",
    "user_tensor = torch.randn((num_users, dim))\n",
    "item_tensor = torch.randn((num_items, dim))\n",
    "print(f'{user_tensor.shape}, item: {item_tensor.shape}')"
   ],
   "metadata": {
    "collapsed": false,
    "pycharm": {
     "name": "#%%\n"
    }
   }
  },
  {
   "cell_type": "markdown",
   "source": [
    "## 生成val_data和user_item_dict"
   ],
   "metadata": {
    "collapsed": false
   }
  },
  {
   "cell_type": "code",
   "execution_count": 10,
   "outputs": [
    {
     "name": "stdout",
     "output_type": "stream",
     "text": [
      "u_i_dict: {0: [5, 49, 24], 1: [18, 21, 20, 38, 14, 34, 33, 45, 0, 24, 43, 37], 2: [16, 22, 35, 31, 4, 45, 26, 12, 17, 49], 3: [44, 29, 27, 30, 21, 9], 4: [38], 5: [33, 28, 21, 17, 22, 24, 32, 2, 25, 14, 48, 46, 34], 6: [43, 30, 20, 23, 28], 7: [9, 33, 16, 11, 24, 29, 28, 23, 26, 35, 14, 45], 8: [2, 48, 9, 19, 1, 21, 45, 4, 8, 32, 5, 28, 27, 23, 39], 9: [43, 30, 28, 34, 4, 49, 17, 22, 29, 10, 40, 48]}\n",
      "val: [[0, 40], [1, 8, 18], [2, 3, 14, 21, 22, 45], [3, 46, 36, 0, 25, 34], [4, 40, 24], [5, 12, 4, 7, 29, 49], [6, 33], [7, 22, 0, 30, 43, 37], [8, 17, 15, 45, 3], [9, 3, 16, 4, 18, 28]]\n"
     ]
    }
   ],
   "source": [
    "import random\n",
    "user_item_dict = {}\n",
    "val_data = []\n",
    "\n",
    "num_of_train = topk + 5\n",
    "num_of_val = 5\n",
    "for i in range(num_users):\n",
    "    num_train_i = random.randint(1, num_of_train)\n",
    "    num_val_i = random.randint(1, num_of_val)\n",
    "    train_item_idx = random.sample(range(0, num_items), num_train_i)\n",
    "    val_item_idx = random.sample(range(0, num_items), num_val_i)\n",
    "\n",
    "    user_item_dict[i] = train_item_idx\n",
    "    val_data.append([i] + val_item_idx)\n",
    "\n",
    "print(f'u_i_dict: {user_item_dict}')\n",
    "print(f'val: {val_data}')"
   ],
   "metadata": {
    "collapsed": false,
    "pycharm": {
     "name": "#%%\n"
    }
   }
  },
  {
   "cell_type": "markdown",
   "source": [
    "## MMGCN Evaluation"
   ],
   "metadata": {
    "collapsed": false
   }
  },
  {
   "cell_type": "code",
   "execution_count": 65,
   "outputs": [],
   "source": [
    "def mmgcn_recall_ndcg(u_tensor, i_tensor):\n",
    "    start_index, step = 0, 200\n",
    "    end_index = num_users   # if step==None else step\n",
    "\n",
    "    all_index_of_rank_list = torch.LongTensor([])\n",
    "    while end_index <= num_users and start_index < end_index:\n",
    "        temp_user_tensor = user_tensor[start_index:end_index]\n",
    "        score_matrix = torch.matmul(temp_user_tensor, item_tensor.t())\n",
    "\n",
    "        for row, col in user_item_dict.items():\n",
    "            if row >= start_index and row < end_index:\n",
    "                row -= start_index\n",
    "                #col = torch.LongTensor(list(col)) - num_users\n",
    "                col = torch.LongTensor(list(col))\n",
    "                #score_matrix[row][col] = 1e-5\n",
    "                score_matrix[row][col] = -1e10\n",
    "\n",
    "        #print(f'score matrix: {score_matrix}')\n",
    "        _, index_of_rank_list = torch.topk(score_matrix, topk)\n",
    "        del score_matrix\n",
    "        torch.cuda.empty_cache()\n",
    "\n",
    "        #all_index_of_rank_list = torch.cat((all_index_of_rank_list, index_of_rank_list.cpu()+num_users), dim=0)\n",
    "        all_index_of_rank_list = torch.cat((all_index_of_rank_list, index_of_rank_list.cpu()), dim=0)\n",
    "        start_index = end_index\n",
    "\n",
    "        if end_index+step < num_users:\n",
    "            end_index += step\n",
    "        else:\n",
    "            end_index = num_users\n",
    "\n",
    "    print(f'topk_index: {all_index_of_rank_list}')\n",
    "    length = 0\n",
    "    precision = recall = ndcg = 0.0\n",
    "\n",
    "    for data in val_data:\n",
    "        user = data[0]\n",
    "        pos_items = set(data[1:])\n",
    "        num_pos = len(pos_items)\n",
    "        if num_pos == 0:\n",
    "            continue\n",
    "        length += 1\n",
    "        items_list = all_index_of_rank_list[user].tolist()\n",
    "\n",
    "        items = set(items_list)\n",
    "\n",
    "        num_hit = len(pos_items.intersection(items))\n",
    "\n",
    "        precision += float(num_hit / topk)\n",
    "        recall += float(num_hit / num_pos)\n",
    "\n",
    "        ndcg_score = 0.0\n",
    "        max_ndcg_score = 0.0\n",
    "\n",
    "        for i in range(min(num_pos, topk)):\n",
    "            max_ndcg_score += 1 / math.log2(i+2)\n",
    "        if max_ndcg_score == 0:\n",
    "            continue\n",
    "\n",
    "        for i, temp_item in enumerate(items_list):\n",
    "            if temp_item in pos_items:\n",
    "                ndcg_score += 1 / math.log2(i+2)\n",
    "\n",
    "        ndcg += ndcg_score/max_ndcg_score\n",
    "\n",
    "    return precision/length, recall/length, ndcg/length"
   ],
   "metadata": {
    "collapsed": false,
    "pycharm": {
     "name": "#%%\n"
    }
   }
  },
  {
   "cell_type": "code",
   "execution_count": 66,
   "outputs": [
    {
     "name": "stdout",
     "output_type": "stream",
     "text": [
      "topk_index: tensor([[25, 18, 36,  0, 47, 28, 20, 33, 29, 32],\n",
      "        [ 8, 48, 16, 27, 49, 15, 11,  2, 35, 41],\n",
      "        [21,  8, 14, 28, 46, 44, 40,  3, 13, 11],\n",
      "        [17, 12, 13, 40, 47, 43, 42, 46, 20, 37],\n",
      "        [43, 44, 32, 31,  1, 27, 22, 21,  0, 36],\n",
      "        [45, 39, 43,  3, 37, 36, 20,  5, 44, 10],\n",
      "        [39, 31, 12, 37, 44,  7, 15, 27, 10, 24],\n",
      "        [30, 42,  5, 36, 19,  0, 39, 12, 38, 40],\n",
      "        [11, 10, 47, 22, 44, 38, 16, 25, 37, 40],\n",
      "        [18, 33, 38, 36, 46,  1, 21, 42, 20, 32]])\n",
      "MMGCN, Precision: 0.07999999999999999, Recall: 0.19, NDCG: 0.21350054786571365\n"
     ]
    }
   ],
   "source": [
    "mmgcn_p, mmgcn_r, mmgcn_n = mmgcn_recall_ndcg(user_tensor, item_tensor)\n",
    "print(f'MMGCN, Precision: {mmgcn_p}, Recall: {mmgcn_r}, NDCG: {mmgcn_n}')"
   ],
   "metadata": {
    "collapsed": false,
    "pycharm": {
     "name": "#%%\n"
    }
   }
  },
  {
   "cell_type": "code",
   "execution_count": null,
   "outputs": [],
   "source": [],
   "metadata": {
    "collapsed": false,
    "pycharm": {
     "name": "#%%\n"
    }
   }
  },
  {
   "cell_type": "markdown",
   "source": [
    "## MMRec 框架"
   ],
   "metadata": {
    "collapsed": false
   }
  },
  {
   "cell_type": "code",
   "execution_count": 20,
   "outputs": [
    {
     "data": {
      "text/plain": "(tensor([0, 0, 0, 1, 1, 1, 1, 1, 1, 1, 1, 1, 1, 1, 1, 2, 2, 2, 2, 2, 2, 2, 2, 2,\n         2, 3, 3, 3, 3, 3, 3, 4, 5, 5, 5, 5, 5, 5, 5, 5, 5, 5, 5, 5, 5, 6, 6, 6,\n         6, 6, 7, 7, 7, 7, 7, 7, 7, 7, 7, 7, 7, 7, 8, 8, 8, 8, 8, 8, 8, 8, 8, 8,\n         8, 8, 8, 8, 8, 9, 9, 9, 9, 9, 9, 9, 9, 9, 9, 9, 9]),\n tensor([ 5, 49, 24, 18, 21, 20, 38, 14, 34, 33, 45,  0, 24, 43, 37, 16, 22, 35,\n         31,  4, 45, 26, 12, 17, 49, 44, 29, 27, 30, 21,  9, 38, 33, 28, 21, 17,\n         22, 24, 32,  2, 25, 14, 48, 46, 34, 43, 30, 20, 23, 28,  9, 33, 16, 11,\n         24, 29, 28, 23, 26, 35, 14, 45,  2, 48,  9, 19,  1, 21, 45,  4,  8, 32,\n          5, 28, 27, 23, 39, 43, 30, 28, 34,  4, 49, 17, 22, 29, 10, 40, 48]))"
     },
     "execution_count": 20,
     "metadata": {},
     "output_type": "execute_result"
    }
   ],
   "source": [
    "u_ls, i_ls = [], []\n",
    "for u, i in user_item_dict.items():\n",
    "    u_ls.extend([u]*len(i))\n",
    "    i_ls.extend(i)\n",
    "#u_ls, i_ls\n",
    "masked_items = (torch.as_tensor(u_ls), torch.as_tensor(i_ls))\n",
    "masked_items"
   ],
   "metadata": {
    "collapsed": false,
    "pycharm": {
     "name": "#%%\n"
    }
   }
  },
  {
   "cell_type": "code",
   "execution_count": 23,
   "outputs": [
    {
     "data": {
      "text/plain": "([array([40]),\n  array([ 8, 18]),\n  array([ 3, 14, 21, 22, 45]),\n  array([46, 36,  0, 25, 34]),\n  array([40, 24]),\n  array([12,  4,  7, 29, 49]),\n  array([33]),\n  array([22,  0, 30, 43, 37]),\n  array([17, 15, 45,  3]),\n  array([ 3, 16,  4, 18, 28])],\n array([1, 2, 5, 5, 2, 5, 1, 5, 4, 5]))"
     },
     "execution_count": 23,
     "metadata": {},
     "output_type": "execute_result"
    }
   ],
   "source": [
    "pos_items = []\n",
    "pos_len_list = []\n",
    "for i in val_data:\n",
    "    pos_items.append(np.array(i[1:]))\n",
    "    pos_len_list.append(len(i[1:]))\n",
    "pos_len_list = np.array(pos_len_list)\n",
    "pos_items, pos_len_list"
   ],
   "metadata": {
    "collapsed": false,
    "pycharm": {
     "name": "#%%\n"
    }
   }
  },
  {
   "cell_type": "code",
   "execution_count": null,
   "outputs": [],
   "source": [],
   "metadata": {
    "collapsed": false,
    "pycharm": {
     "name": "#%%\n"
    }
   }
  },
  {
   "cell_type": "code",
   "execution_count": 26,
   "outputs": [],
   "source": [
    "\n",
    "def recall_(pos_index, pos_len):\n",
    "    # Recall: average single users recall ratio.\n",
    "    rec_ret = np.cumsum(pos_index, axis=1) / pos_len.reshape(-1, 1)\n",
    "    return rec_ret.mean(axis=0)\n",
    "\n",
    "def ndcg_(pos_index, pos_len):\n",
    "    len_rank = np.full_like(pos_len, pos_index.shape[1])\n",
    "    idcg_len = np.where(pos_len > len_rank, len_rank, pos_len)\n",
    "\n",
    "    iranks = np.zeros_like(pos_index, dtype=np.float)\n",
    "    iranks[:, :] = np.arange(1, pos_index.shape[1] + 1)\n",
    "    idcg = np.cumsum(1.0 / np.log2(iranks + 1), axis=1)\n",
    "    for row, idx in enumerate(idcg_len):\n",
    "        idcg[row, idx:] = idcg[row, idx - 1]\n",
    "\n",
    "    ranks = np.zeros_like(pos_index, dtype=np.float)\n",
    "    ranks[:, :] = np.arange(1, pos_index.shape[1] + 1)\n",
    "    dcg = 1.0 / np.log2(ranks + 1)\n",
    "    dcg = np.cumsum(np.where(pos_index, dcg, 0), axis=1)\n",
    "\n",
    "    result = dcg / idcg\n",
    "    return result.mean(axis=0)\n",
    "\n",
    "def precision_(pos_index, pos_len):\n",
    "    rec_ret = pos_index.cumsum(axis=1) / np.arange(1, pos_index.shape[1] + 1)\n",
    "    return rec_ret.mean(axis=0)"
   ],
   "metadata": {
    "collapsed": false,
    "pycharm": {
     "name": "#%%\n"
    }
   }
  },
  {
   "cell_type": "code",
   "execution_count": 27,
   "outputs": [],
   "source": [
    "metrics = ['precision', 'recall', 'ndcg']\n",
    "metrics_dict = {\n",
    "    'ndcg': ndcg_,\n",
    "    'recall': recall_,\n",
    "    'precision': precision_,\n",
    "}"
   ],
   "metadata": {
    "collapsed": false,
    "pycharm": {
     "name": "#%%\n"
    }
   }
  },
  {
   "cell_type": "code",
   "execution_count": 29,
   "outputs": [],
   "source": [
    "\n",
    "def calculate_metrics(pos_len_list, topk_index):\n",
    "    result_list = []\n",
    "    for metric in metrics:\n",
    "        metric_fuc = metrics_dict[metric.lower()]\n",
    "        result = metric_fuc(topk_index, pos_len_list)\n",
    "        result_list.append(result)\n",
    "    return np.stack(result_list, axis=0)\n"
   ],
   "metadata": {
    "collapsed": false,
    "pycharm": {
     "name": "#%%\n"
    }
   }
  },
  {
   "cell_type": "code",
   "execution_count": null,
   "outputs": [],
   "source": [],
   "metadata": {
    "collapsed": false,
    "pycharm": {
     "name": "#%%\n"
    }
   }
  },
  {
   "cell_type": "code",
   "execution_count": 67,
   "outputs": [],
   "source": [
    "def MMRec_recall_ndcg(u_tensor, i_tensor):\n",
    "    scores = torch.matmul(u_tensor, i_tensor.t())\n",
    "    scores[masked_items[0], masked_items[1]] = -1e10\n",
    "\n",
    "    #print(f'scores: {scores}')\n",
    "    # rank and get top-k\n",
    "    _, topk_index = torch.topk(scores, topk, dim=-1)  # nusers x topk\n",
    "    topk_index = topk_index.numpy()\n",
    "    print(f'topk_index: {topk_index}')\n",
    "\n",
    "    bool_rec_matrix = []\n",
    "    for m, n in zip(pos_items, topk_index):\n",
    "        bool_rec_matrix.append([True if i in m else False for i in n])\n",
    "    bool_rec_matrix = np.asarray(bool_rec_matrix)\n",
    "    # get metrics\n",
    "    metric_dict = {}\n",
    "    result_list = calculate_metrics(pos_len_list, bool_rec_matrix)\n",
    "    for metric, value in zip(metrics, result_list):\n",
    "        for k in [topk]:\n",
    "            key = '{}@{}'.format(metric, k)\n",
    "            #metric_dict[key] = round(value[k - 1], 4)\n",
    "            metric_dict[key] = value[k - 1]\n",
    "    return metric_dict"
   ],
   "metadata": {
    "collapsed": false,
    "pycharm": {
     "name": "#%%\n"
    }
   }
  },
  {
   "cell_type": "code",
   "execution_count": 68,
   "outputs": [
    {
     "name": "stdout",
     "output_type": "stream",
     "text": [
      "topk_index: [[25 18 36  0 47 28 20 33 29 32]\n",
      " [ 8 48 16 27 49 15 11  2 35 41]\n",
      " [21  8 14 28 46 44 40  3 13 11]\n",
      " [17 12 13 40 47 43 42 46 20 37]\n",
      " [43 44 32 31  1 27 22 21  0 36]\n",
      " [45 39 43  3 37 36 20  5 44 10]\n",
      " [39 31 12 37 44  7 15 27 10 24]\n",
      " [30 42  5 36 19  0 39 12 38 40]\n",
      " [11 10 47 22 44 38 16 25 37 40]\n",
      " [18 33 38 36 46  1 21 42 20 32]]\n"
     ]
    },
    {
     "name": "stderr",
     "output_type": "stream",
     "text": [
      "C:\\ProgramData\\Anaconda3\\envs\\env-test\\lib\\site-packages\\ipykernel_launcher.py:10: DeprecationWarning: `np.float` is a deprecated alias for the builtin `float`. To silence this warning, use `float` by itself. Doing this will not modify any behavior and is safe. If you specifically wanted the numpy scalar type, use `np.float64` here.\n",
      "Deprecated in NumPy 1.20; for more details and guidance: https://numpy.org/devdocs/release/1.20.0-notes.html#deprecations\n",
      "  # Remove the CWD from sys.path while we load stuff.\n",
      "C:\\ProgramData\\Anaconda3\\envs\\env-test\\lib\\site-packages\\ipykernel_launcher.py:16: DeprecationWarning: `np.float` is a deprecated alias for the builtin `float`. To silence this warning, use `float` by itself. Doing this will not modify any behavior and is safe. If you specifically wanted the numpy scalar type, use `np.float64` here.\n",
      "Deprecated in NumPy 1.20; for more details and guidance: https://numpy.org/devdocs/release/1.20.0-notes.html#deprecations\n",
      "  app.launch_new_instance()\n"
     ]
    },
    {
     "data": {
      "text/plain": "{'precision@10': 0.07999999999999999,\n 'recall@10': 0.19,\n 'ndcg@10': 0.21350054786571365}"
     },
     "execution_count": 68,
     "metadata": {},
     "output_type": "execute_result"
    }
   ],
   "source": [
    "mmrec_dict = MMRec_recall_ndcg(user_tensor, item_tensor)\n",
    "mmrec_dict"
   ],
   "metadata": {
    "collapsed": false,
    "pycharm": {
     "name": "#%%\n"
    }
   }
  }
 ],
 "metadata": {
  "kernelspec": {
   "display_name": "Python 3",
   "language": "python",
   "name": "python3"
  },
  "language_info": {
   "codemirror_mode": {
    "name": "ipython",
    "version": 2
   },
   "file_extension": ".py",
   "mimetype": "text/x-python",
   "name": "python",
   "nbconvert_exporter": "python",
   "pygments_lexer": "ipython2",
   "version": "2.7.6"
  }
 },
 "nbformat": 4,
 "nbformat_minor": 0
}